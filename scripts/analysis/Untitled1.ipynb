{
 "cells": [
  {
   "cell_type": "code",
   "execution_count": null,
   "id": "a32116db-86b8-42a7-99f4-9b0208ef450f",
   "metadata": {},
   "outputs": [],
   "source": [
    "library(\"languageR\")\n",
    "library(\"lme4\")\n",
    "library(\"ggplot2\")"
   ]
  },
  {
   "cell_type": "code",
   "execution_count": null,
   "id": "219d1752-101c-46ed-9375-6c768278cf65",
   "metadata": {},
   "outputs": [],
   "source": [
    "library(\"languageR\")\n",
    "library(\"lme4\")\n",
    "library(\"ggplot2\")\n",
    "control = lmerControl(optimizer='bobyqa')\n",
    "\n",
    "\n",
    "data <- read.csv(\"/Volumes/teon-backup/Experiments/E-MEG/data/group/group_OLDT_region_times.txt\")\n",
    "data = data[!is.na(data$dur),]\n",
    "data = data[data$word == 1,]\n",
    "data$subject = factor(data$subject)\n",
    "data$dur = as.numeric(data$dur)\n",
    "data$trial = as.numeric(data$trial)\n",
    "\n",
    "\n",
    "# remove outliers\n",
    "data = data[data$dur > 80,]\n",
    "dur.mean = mean(data$dur, na.rm=TRUE)\n",
    "dur.std = sd(data$dur, na.rm=TRUE)\n",
    "data[data$dur > dur.mean + 3*dur.std | data$dur < dur.mean - 3*dur.std,] = NA\n",
    "\n",
    "# select target region\n",
    "target = data[data$ia == 'target',]\n",
    "# prime = data[data$ia == 'prime',]\n",
    "\n",
    "\n",
    "# MLM\n",
    "model <- lmer(dur~priming + (1+priming|subject), data = target)\n",
    "means = aggregate(dur ~ priming, data = target, FUN = mean)\n",
    "std = aggregate(dur ~ priming, data = target, FUN = sd)\n",
    "\n",
    "# MLM\n",
    "# model <- lmer(dur~priming + (1+priming|subject), data = prime)\n",
    "# means = aggregate(dur ~ priming, data = prime, FUN = mean)\n",
    "\n",
    "cat(\"\\014\") \n",
    "summary(model)\n",
    "means\n",
    "std\n"
   ]
  }
 ],
 "metadata": {
  "kernelspec": {
   "display_name": "Ark R Kernel",
   "language": "R",
   "name": "ark"
  },
  "language_info": {
   "name": ""
  }
 },
 "nbformat": 4,
 "nbformat_minor": 5
}
